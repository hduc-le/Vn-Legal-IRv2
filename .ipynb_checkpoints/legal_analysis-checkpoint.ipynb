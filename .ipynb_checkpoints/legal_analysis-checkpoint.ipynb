{
 "cells": [
  {
   "cell_type": "code",
   "execution_count": 1,
   "id": "9f32903f",
   "metadata": {},
   "outputs": [],
   "source": [
    "import numpy as np\n",
    "import json, pickle\n",
    "import re, os"
   ]
  },
  {
   "cell_type": "code",
   "execution_count": 2,
   "id": "0c437bf8",
   "metadata": {},
   "outputs": [],
   "source": [
    "def load_json(path):\n",
    "    with open(path, 'r', encoding='utf-8') as fr:\n",
    "        data_json = json.load(fr)\n",
    "    fr.close()\n",
    "    return data_json\n",
    "\n",
    "def save_json(obj, path):\n",
    "    with open(path, 'w') as outfile:\n",
    "        json.dump(obj, outfile, indent=2)\n",
    "\n",
    "def save_parameter(save_object, save_file):\n",
    "    with open(save_file, 'wb') as f:\n",
    "        pickle.dump(save_object, f, protocol=pickle.HIGHEST_PROTOCOL)\n",
    "\n",
    "def load_parameter(load_file):\n",
    "    with open(load_file, 'rb') as f:\n",
    "        output = pickle.load(f)\n",
    "    return output\n",
    "def clean_text(txt):\n",
    "    "
   ]
  },
  {
   "cell_type": "code",
   "execution_count": null,
   "id": "321b038c",
   "metadata": {},
   "outputs": [],
   "source": [
    "data = load_json(\"./zalo_datasets/legal_corpus.json\")\n",
    "training_corpus = [clean_text(article[\"text\"]) for doc in data for article in doc[\"articles\"]]"
   ]
  }
 ],
 "metadata": {
  "kernelspec": {
   "display_name": "Python (vn-legal)",
   "language": "python",
   "name": "vn-legal"
  },
  "language_info": {
   "codemirror_mode": {
    "name": "ipython",
    "version": 3
   },
   "file_extension": ".py",
   "mimetype": "text/x-python",
   "name": "python",
   "nbconvert_exporter": "python",
   "pygments_lexer": "ipython3",
   "version": "3.9.12"
  }
 },
 "nbformat": 4,
 "nbformat_minor": 5
}
