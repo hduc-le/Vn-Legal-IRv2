{
 "cells": [
  {
   "cell_type": "code",
   "execution_count": 2,
   "metadata": {},
   "outputs": [],
   "source": [
    "import torch\n",
    "import numpy as np\n",
    "import json\n",
    "import pickle\n",
    "from utils import *\n",
    "from vncorenlp import VnCoreNLP"
   ]
  },
  {
   "cell_type": "code",
   "execution_count": 3,
   "metadata": {},
   "outputs": [],
   "source": [
    "data = load_json(\"zalo_datasets\\legal_corpus.json\")"
   ]
  },
  {
   "cell_type": "code",
   "execution_count": 4,
   "metadata": {},
   "outputs": [],
   "source": [
    "corpus = [clean_text(article[\"text\"]) for doc in data for article in doc[\"articles\"]]"
   ]
  },
  {
   "cell_type": "code",
   "execution_count": 5,
   "metadata": {},
   "outputs": [
    {
     "name": "stdout",
     "output_type": "stream",
     "text": [
      "Total of articles: 61425\n"
     ]
    }
   ],
   "source": [
    "print(f\"Total of articles: {len(corpus)}\")"
   ]
  },
  {
   "cell_type": "code",
   "execution_count": 16,
   "metadata": {},
   "outputs": [
    {
     "name": "stdout",
     "output_type": "stream",
     "text": [
      "Total of non empty articles: 61068\n"
     ]
    }
   ],
   "source": [
    "non_empty_corpus = list(filter(None, corpus))\n",
    "print(f\"Total of non empty articles: {len(non_empty_corpus)}\")"
   ]
  },
  {
   "cell_type": "code",
   "execution_count": 6,
   "metadata": {},
   "outputs": [
    {
     "name": "stdout",
     "output_type": "stream",
     "text": [
      "Total of documents: 3271\n"
     ]
    }
   ],
   "source": [
    "print(f\"Total of documents: {len(data)}\")"
   ]
  },
  {
   "cell_type": "code",
   "execution_count": 17,
   "metadata": {},
   "outputs": [],
   "source": [
    "article_lengths = [len(article.split()) for article in non_empty_corpus]"
   ]
  },
  {
   "cell_type": "code",
   "execution_count": 9,
   "metadata": {},
   "outputs": [],
   "source": [
    "annotator = VnCoreNLP(\n",
    "        \"./VnCoreNLP/VnCoreNLP-1.1.1.jar\", \n",
    "        annotators=\"wseg,pos,ner,parse\", \n",
    "        max_heap_size=\"-Xmx2g\"\n",
    "    )"
   ]
  },
  {
   "cell_type": "code",
   "execution_count": null,
   "metadata": {},
   "outputs": [],
   "source": [
    "def get_mask_candidate_from_dep_parsing(annotator, sentences):\n",
    "    mask_candidates = []\n",
    "    for sent in sentences:\n",
    "        dep_outs = annotator.dep_parse(sent)[0]\n",
    "        \n",
    "\n",
    "def get_mask_candidate_from_pos_tags(annotator, sentences):\n",
    "    list_candidates = []\n",
    "    for sent in sentences:\n",
    "        pos_tags = annotator.pos_tag(sent)[0]\n",
    "        v_ids = [idx+1 for idx, item in enumerate(pos_tags) if item[1] == 'V']\n",
    "        list_candidates.append(v_ids)\n",
    "    return list_candidates\n",
    "def prepare_features(sentences, tokenizer, annotator):\n",
    "    #TODO:\n",
    "        # tokenize\n",
    "        # build mask candidates from pos tags\n",
    "        # build mask candidates from dep parsing\n",
    "    encodings = tokenizer(\n",
    "        sentences,\n",
    "        truncation=True,\n",
    "        padding=\"max_length\"\n",
    "        max_length=250,\n",
    "        return_tensors=\"pt\"\n",
    "    )\n",
    "\n",
    "    "
   ]
  },
  {
   "cell_type": "code",
   "execution_count": 12,
   "metadata": {},
   "outputs": [],
   "source": [
    "from tqdm import tqdm\n",
    "def get_mask_candidate_from_pos_tags(annotator, sentences):\n",
    "    list_candidates = []\n",
    "    for sent in tqdm(sentences):\n",
    "        pos_tags = annotator.pos_tag(sent)[0]\n",
    "        v_ids = [idx+1 for idx, item in enumerate(pos_tags) if item[1] == 'V']\n",
    "        list_candidates.append(v_ids)\n",
    "    return list_candidates"
   ]
  },
  {
   "cell_type": "code",
   "execution_count": null,
   "metadata": {},
   "outputs": [],
   "source": [
    "mask_candidates = get_mask_candidate_from_pos_tags(annotator, non_empty_corpus)"
   ]
  },
  {
   "cell_type": "code",
   "execution_count": 14,
   "metadata": {},
   "outputs": [],
   "source": []
  },
  {
   "cell_type": "code",
   "execution_count": null,
   "metadata": {},
   "outputs": [],
   "source": []
  }
 ],
 "metadata": {
  "interpreter": {
   "hash": "5a9fa6346b00fcae30a456d11492e7e5c3469ba1430ea40ef27ad850d6272a40"
  },
  "kernelspec": {
   "display_name": "Python (vn-legal)",
   "language": "python",
   "name": "vn-legal"
  },
  "language_info": {
   "codemirror_mode": {
    "name": "ipython",
    "version": 3
   },
   "file_extension": ".py",
   "mimetype": "text/x-python",
   "name": "python",
   "nbconvert_exporter": "python",
   "pygments_lexer": "ipython3",
   "version": "3.9.12"
  }
 },
 "nbformat": 4,
 "nbformat_minor": 2
}
