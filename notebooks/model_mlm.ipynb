{
 "cells": [
  {
   "cell_type": "code",
   "execution_count": 1,
   "metadata": {},
   "outputs": [],
   "source": [
    "import torch\n",
    "import numpy as np\n",
    "import json\n",
    "import pickle\n",
    "from transformers import AutoModelForMaskedLM, AutoTokenizer\n",
    "from utils import *\n",
    "from vncorenlp import VnCoreNLP"
   ]
  },
  {
   "cell_type": "code",
   "execution_count": 2,
   "metadata": {},
   "outputs": [],
   "source": [
    "data = load_json(\"./zalo_datasets/legal_corpus.json\")"
   ]
  },
  {
   "cell_type": "code",
   "execution_count": 3,
   "metadata": {},
   "outputs": [],
   "source": [
    "corpus = [clean_text(article[\"title\"] + \" \" + article[\"text\"]) for doc in data for article in doc[\"articles\"]]"
   ]
  },
  {
   "cell_type": "code",
   "execution_count": 4,
   "metadata": {},
   "outputs": [
    {
     "name": "stdout",
     "output_type": "stream",
     "text": [
      "Total of articles: 61425\n"
     ]
    }
   ],
   "source": [
    "print(f\"Total of articles: {len(corpus)}\")"
   ]
  },
  {
   "cell_type": "code",
   "execution_count": 5,
   "metadata": {},
   "outputs": [
    {
     "name": "stdout",
     "output_type": "stream",
     "text": [
      "Total of documents: 3271\n"
     ]
    }
   ],
   "source": [
    "print(f\"Total of documents: {len(data)}\")"
   ]
  },
  {
   "cell_type": "code",
   "execution_count": 6,
   "metadata": {},
   "outputs": [],
   "source": [
    "article_lengths = [len(article.split()) for article in corpus]"
   ]
  },
  {
   "cell_type": "code",
   "execution_count": 7,
   "metadata": {},
   "outputs": [],
   "source": [
    "annotator = VnCoreNLP(\n",
    "        \"./VnCoreNLP/VnCoreNLP-1.1.1.jar\", \n",
    "        annotators=\"wseg,pos,ner,parse\", \n",
    "        max_heap_size=\"-Xmx2g\"\n",
    "    )"
   ]
  },
  {
   "cell_type": "code",
   "execution_count": 8,
   "metadata": {},
   "outputs": [
    {
     "name": "stderr",
     "output_type": "stream",
     "text": [
      "Processing: 100%|██████████████████████████████████| 61425/61425 [20:55<00:00, 48.92it/s]\n"
     ]
    }
   ],
   "source": [
    "from tqdm import tqdm\n",
    "\n",
    "\n",
    "segmented_corpus = []\n",
    "for article in tqdm(corpus, desc=\"Processing\"):\n",
    "    try:\n",
    "        segmented_article = \" \".join(annotator.tokenize(article)[0])\n",
    "    except:\n",
    "        segmented_article = article\n",
    "    \n",
    "    segmented_corpus.append(segmented_article)"
   ]
  },
  {
   "cell_type": "code",
   "execution_count": 9,
   "metadata": {},
   "outputs": [
    {
     "data": {
      "text/plain": [
       "61425"
      ]
     },
     "execution_count": 9,
     "metadata": {},
     "output_type": "execute_result"
    }
   ],
   "source": [
    "len(segmented_corpus)"
   ]
  },
  {
   "cell_type": "code",
   "execution_count": 10,
   "metadata": {},
   "outputs": [],
   "source": [
    "save_parameter(segmented_corpus, './segmented_corpus.pickle')"
   ]
  },
  {
   "cell_type": "code",
   "execution_count": 12,
   "metadata": {},
   "outputs": [
    {
     "data": {
      "text/plain": [
       "'điều 6 trang_bị dụng_cụ sổ_sách 1 lực_lượng tuần_tra canh_gác đê được trang_bị dụng_cụ thông_tin liên_lạc phương_tiện phục_vụ công_tác tuần_tra canh_gác đê dụng_cụ ứng_cứu như đèn_đuốc mai cuốc xẻng đầm vồ và các dụng_cụ cần_thiết khác phù_hợp với từng địa_phương sổ_sách để ghi_chép tình_hình diễn_biến của đê_kè bảo_vệ đê cống qua đê công_trình quản_lý khác tiếp_nhận chỉ_thị nhận_xét của cấp trên phân công_bố_trí người tuần_tra canh_gác hàng ngày 2 số_lượng dụng_cụ sổ_sách tối_thiểu được trang_bị cho mỗi đội tuần_tra canh_gác đê như sau a về dụng_cụ áo_phao 06 cái áo đi mưa 18 cái xe_cải_tiến 02 chiếc quang_gánh 10 đôi xẻng 06 cái cuốc 06 cái mai đào đất 02 cái xè beng 01 cái dao 10 con vồ 05 cái đèn_bão 05 cái đèn ắc quy hoặc đèn_pin 05 cái trống hoặc kẻng 01 cái biển tín_hiệu báo_động lũ 01 bộ đèn tín_hiệu báo_động lũ 01 bộ tiêu bảng báo_hiệu hư_hỏng 20 cái dầu_hoả 10 lít b về sổ_sách sổ ghi_danh sách phân_công người tuần_tra canh_gác theo từng ca kíp trong ngày ghi chỉ_thị ý_kiến của cấp trên và những nội_dung đã báo_cáo với cấp trên trong ngày sổ nhật_ký ghi_chép diễn_biến của đê_kè bảo_vệ đê cống qua đê và công_trình quản_lý khác những sổ_sách trên phải giữ_gìn cẩn_thận ghi_chép rõ_ràng và thường_xuyên để ở trụ_sở của đội điếm_canh đê hoặc nhà dân khu_vực gần đê đối_với những khu_vực chưa có điếm_canh đê nếu không có lệnh của đội_trưởng thì không được mang sổ_sách đi nơi khác c dụng_cụ sổ_sách trên được để tại trụ_sở của đội và được bàn_giao giữa các kíp trực 3 kinh_phí mua_sắm dụng_cụ sổ_sách quy_định tại khoản 2 của điều này lấy trong quỹ phòng_chống lụt_bão hoặc ngân_sách hàng năm của địa_phương 4 uỷ_ban_nhân_dân cấp huyện có đê trước mùa lũ chịu trách_nhiệm mua_sắm dụng_cụ sổ_sách quy_định tại khoản 2 điều này để cấp cho các đội tuần_tra canh_gác đê 5 sau mùa lũ đội_trưởng các đội tuần_tra canh_gác đê có trách_nhiệm tổng_hợp thống_kê và trao_trả số dụng_cụ quy_định tại điểm a khoản 2 điều này để bảo_quản theo hướng_dẫn của uỷ_ban_nhân_dân cấp huyện 6 các loại sổ_sách quy_định tại điểm b khoản 2 điều này đội_trưởng đội tuần_tra canh_gác đê có trách_nhiệm bàn_giao cho đội chuyên_trách quản_lý đê_điều để xử_lý và bảo_quản 7 việc giao_nhận các dụng_cụ và sổ_sách trên đây phải được lập biên_bản để quản_lý theo_dõi'"
      ]
     },
     "execution_count": 12,
     "metadata": {},
     "output_type": "execute_result"
    }
   ],
   "source": [
    "segmented_corpus[5]"
   ]
  },
  {
   "cell_type": "code",
   "execution_count": null,
   "metadata": {},
   "outputs": [],
   "source": []
  }
 ],
 "metadata": {
  "interpreter": {
   "hash": "5a9fa6346b00fcae30a456d11492e7e5c3469ba1430ea40ef27ad850d6272a40"
  },
  "kernelspec": {
   "display_name": "Python (vn-legal)",
   "language": "python",
   "name": "vn-legal"
  },
  "language_info": {
   "codemirror_mode": {
    "name": "ipython",
    "version": 3
   },
   "file_extension": ".py",
   "mimetype": "text/x-python",
   "name": "python",
   "nbconvert_exporter": "python",
   "pygments_lexer": "ipython3",
   "version": "3.9.12"
  }
 },
 "nbformat": 4,
 "nbformat_minor": 2
}
